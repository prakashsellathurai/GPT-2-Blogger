{
  "nbformat": 4,
  "nbformat_minor": 0,
  "metadata": {
    "colab": {
      "name": "GPT-2-Blogger-colab",
      "provenance": [],
      "collapsed_sections": [],
      "toc_visible": true,
      "authorship_tag": "ABX9TyO6auPIDBM7KRQKiJq3ak0H",
      "include_colab_link": true
    },
    "kernelspec": {
      "name": "python3",
      "display_name": "Python 3"
    },
    "accelerator": "GPU"
  },
  "cells": [
    {
      "cell_type": "markdown",
      "metadata": {
        "id": "view-in-github",
        "colab_type": "text"
      },
      "source": [
        "<a href=\"https://colab.research.google.com/github/prakashsellathurai/GPT-2-Blogger/blob/main/GPT_2_Blogger_colab.ipynb\" target=\"_parent\"><img src=\"https://colab.research.google.com/assets/colab-badge.svg\" alt=\"Open In Colab\"/></a>"
      ]
    },
    {
      "cell_type": "code",
      "metadata": {
        "id": "N0mrN1ltr7h9",
        "outputId": "1171faf1-89a4-4b64-c886-97bfbe4b0788",
        "colab": {
          "base_uri": "https://localhost:8080/",
          "height": 357
        }
      },
      "source": [
        "!nvidia-smi"
      ],
      "execution_count": null,
      "outputs": [
        {
          "output_type": "stream",
          "text": [
            "Wed Oct 21 15:41:31 2020       \n",
            "+-----------------------------------------------------------------------------+\n",
            "| NVIDIA-SMI 455.23.05    Driver Version: 418.67       CUDA Version: 10.1     |\n",
            "|-------------------------------+----------------------+----------------------+\n",
            "| GPU  Name        Persistence-M| Bus-Id        Disp.A | Volatile Uncorr. ECC |\n",
            "| Fan  Temp  Perf  Pwr:Usage/Cap|         Memory-Usage | GPU-Util  Compute M. |\n",
            "|                               |                      |               MIG M. |\n",
            "|===============================+======================+======================|\n",
            "|   0  Tesla K80           Off  | 00000000:00:04.0 Off |                    0 |\n",
            "| N/A   73C    P0    74W / 149W |     69MiB / 11441MiB |      0%      Default |\n",
            "|                               |                      |                 ERR! |\n",
            "+-------------------------------+----------------------+----------------------+\n",
            "                                                                               \n",
            "+-----------------------------------------------------------------------------+\n",
            "| Processes:                                                                  |\n",
            "|  GPU   GI   CI        PID   Type   Process name                  GPU Memory |\n",
            "|        ID   ID                                                   Usage      |\n",
            "|=============================================================================|\n",
            "|  No running processes found                                                 |\n",
            "+-----------------------------------------------------------------------------+\n"
          ],
          "name": "stdout"
        }
      ]
    },
    {
      "cell_type": "code",
      "metadata": {
        "id": "LbKpa_TcrJMo"
      },
      "source": [
        "%tensorflow_version 1.x\n",
        "!pip install -q gpt-2-simple\n",
        "import gpt_2_simple as gpt2\n",
        "from datetime import datetime\n",
        "from google.colab import files"
      ],
      "execution_count": null,
      "outputs": []
    },
    {
      "cell_type": "code",
      "metadata": {
        "id": "OqBtJh8Ht6m1",
        "outputId": "9b3d6ae1-8423-4699-9208-db7fa1efea9e",
        "colab": {
          "base_uri": "https://localhost:8080/",
          "height": 136
        }
      },
      "source": [
        "gpt2.download_gpt2(model_name=\"355M\")"
      ],
      "execution_count": null,
      "outputs": [
        {
          "output_type": "stream",
          "text": [
            "Fetching checkpoint: 1.05Mit [00:00, 166Mit/s]                                                      \n",
            "Fetching encoder.json: 1.05Mit [00:00, 75.7Mit/s]                                                   \n",
            "Fetching hparams.json: 1.05Mit [00:00, 385Mit/s]                                                    \n",
            "Fetching model.ckpt.data-00000-of-00001: 1.42Git [00:48, 29.2Mit/s]                                 \n",
            "Fetching model.ckpt.index: 1.05Mit [00:00, 168Mit/s]                                                \n",
            "Fetching model.ckpt.meta: 1.05Mit [00:00, 64.9Mit/s]                                                \n",
            "Fetching vocab.bpe: 1.05Mit [00:00, 102Mit/s]                                                       \n"
          ],
          "name": "stderr"
        }
      ]
    },
    {
      "cell_type": "code",
      "metadata": {
        "id": "yT0ET563uFUi",
        "outputId": "ef39cf83-13c4-4714-aaed-a33ede569e6a",
        "colab": {
          "base_uri": "https://localhost:8080/",
          "height": 54
        }
      },
      "source": [
        "gpt2.mount_gdrive()"
      ],
      "execution_count": null,
      "outputs": [
        {
          "output_type": "stream",
          "text": [
            "Drive already mounted at /content/drive; to attempt to forcibly remount, call drive.mount(\"/content/drive\", force_remount=True).\n"
          ],
          "name": "stdout"
        }
      ]
    },
    {
      "cell_type": "code",
      "metadata": {
        "id": "NBPAMLbFuO3n",
        "outputId": "9bee307b-3546-4e63-84dd-c796101981b4",
        "colab": {
          "base_uri": "https://localhost:8080/",
          "height": 204
        }
      },
      "source": [
        "\n",
        "!wget https://www.gwern.net/docs/ai/poetry/2019-03-06-gpt2-poetry-1000samples.txt"
      ],
      "execution_count": null,
      "outputs": [
        {
          "output_type": "stream",
          "text": [
            "--2020-10-21 15:43:56--  https://www.gwern.net/docs/ai/poetry/2019-03-06-gpt2-poetry-1000samples.txt\n",
            "Resolving www.gwern.net (www.gwern.net)... 104.26.7.107, 104.26.6.107, 172.67.72.106, ...\n",
            "Connecting to www.gwern.net (www.gwern.net)|104.26.7.107|:443... connected.\n",
            "HTTP request sent, awaiting response... 200 OK\n",
            "Length: 3673274 (3.5M) [text/plain]\n",
            "Saving to: ‘2019-03-06-gpt2-poetry-1000samples.txt’\n",
            "\n",
            "\r          2019-03-0   0%[                    ]       0  --.-KB/s               \r2019-03-06-gpt2-poe 100%[===================>]   3.50M  --.-KB/s    in 0.04s   \n",
            "\n",
            "2020-10-21 15:43:56 (80.9 MB/s) - ‘2019-03-06-gpt2-poetry-1000samples.txt’ saved [3673274/3673274]\n",
            "\n"
          ],
          "name": "stdout"
        }
      ]
    },
    {
      "cell_type": "code",
      "metadata": {
        "id": "OC2my0YO0MjF"
      },
      "source": [
        "file_name = \"2019-03-06-gpt2-poetry-1000samples.txt\""
      ],
      "execution_count": null,
      "outputs": []
    },
    {
      "cell_type": "code",
      "metadata": {
        "id": "ffahhSUXzKBe",
        "outputId": "ffde43dd-0cc4-4c78-f8ac-6d92ed3e843f",
        "colab": {
          "base_uri": "https://localhost:8080/",
          "height": 1000
        }
      },
      "source": [
        "sess = gpt2.start_tf_sess()\n",
        "\n",
        "gpt2.finetune(sess,\n",
        "              dataset=file_name,\n",
        "              model_name='355M',\n",
        "              steps=5000,\n",
        "              restore_from='latest',\n",
        "              run_name='run42K',\n",
        "              print_every=10,\n",
        "              sample_every=5000,\n",
        "              )"
      ],
      "execution_count": null,
      "outputs": [
        {
          "output_type": "stream",
          "text": [
            "WARNING:tensorflow:From /usr/local/lib/python3.6/dist-packages/gpt_2_simple/src/sample.py:17: where (from tensorflow.python.ops.array_ops) is deprecated and will be removed in a future version.\n",
            "Instructions for updating:\n",
            "Use tf.where in 2.0, which has the same broadcast rule as np.where\n",
            "WARNING:tensorflow:From /usr/local/lib/python3.6/dist-packages/gpt_2_simple/src/memory_saving_gradients.py:62: get_backward_walk_ops (from tensorflow.contrib.graph_editor.select) is deprecated and will be removed after 2019-06-06.\n",
            "Instructions for updating:\n",
            "Please use tensorflow.python.ops.op_selector.get_backward_walk_ops.\n",
            "Loading checkpoint models/355M/model.ckpt\n",
            "INFO:tensorflow:Restoring parameters from models/355M/model.ckpt\n"
          ],
          "name": "stdout"
        },
        {
          "output_type": "stream",
          "text": [
            "\r  0%|          | 0/1 [00:00<?, ?it/s]"
          ],
          "name": "stderr"
        },
        {
          "output_type": "stream",
          "text": [
            "Loading dataset...\n"
          ],
          "name": "stdout"
        },
        {
          "output_type": "stream",
          "text": [
            "100%|██████████| 1/1 [00:06<00:00,  6.06s/it]\n"
          ],
          "name": "stderr"
        },
        {
          "output_type": "stream",
          "text": [
            "dataset has 1034166 tokens\n",
            "Training...\n",
            "[10 | 42.73] loss=3.22 avg=3.22\n",
            "[20 | 74.37] loss=3.52 avg=3.37\n",
            "[30 | 105.95] loss=2.70 avg=3.14\n",
            "[40 | 137.56] loss=3.07 avg=3.13\n",
            "[50 | 169.14] loss=3.41 avg=3.18\n",
            "[60 | 200.70] loss=3.11 avg=3.17\n",
            "[70 | 232.29] loss=2.58 avg=3.08\n",
            "[80 | 263.88] loss=3.31 avg=3.11\n",
            "[90 | 295.49] loss=2.83 avg=3.08\n",
            "[100 | 327.05] loss=3.13 avg=3.09\n",
            "[110 | 358.66] loss=3.17 avg=3.10\n",
            "[120 | 390.25] loss=3.49 avg=3.13\n",
            "[130 | 421.85] loss=3.43 avg=3.15\n",
            "[140 | 453.40] loss=3.30 avg=3.16\n",
            "[150 | 484.96] loss=3.08 avg=3.16\n",
            "[160 | 516.51] loss=2.69 avg=3.13\n",
            "[170 | 548.08] loss=3.20 avg=3.13\n",
            "[180 | 579.67] loss=2.98 avg=3.12\n",
            "[190 | 611.29] loss=3.32 avg=3.13\n",
            "[200 | 642.90] loss=2.56 avg=3.10\n",
            "[210 | 674.49] loss=3.06 avg=3.10\n",
            "[220 | 706.12] loss=2.83 avg=3.09\n",
            "[230 | 737.73] loss=2.73 avg=3.07\n",
            "[240 | 769.31] loss=2.31 avg=3.03\n",
            "[250 | 800.89] loss=3.71 avg=3.06\n",
            "[260 | 832.46] loss=3.38 avg=3.08\n",
            "[270 | 864.02] loss=2.39 avg=3.05\n",
            "[280 | 895.64] loss=3.10 avg=3.05\n",
            "[290 | 927.22] loss=2.84 avg=3.04\n",
            "[300 | 958.78] loss=3.12 avg=3.05\n",
            "[310 | 990.37] loss=3.46 avg=3.06\n",
            "[320 | 1021.96] loss=3.84 avg=3.09\n",
            "[330 | 1053.56] loss=3.14 avg=3.09\n",
            "[340 | 1085.15] loss=3.15 avg=3.09\n",
            "[350 | 1116.72] loss=2.98 avg=3.09\n",
            "[360 | 1148.29] loss=3.31 avg=3.10\n",
            "[370 | 1179.91] loss=2.42 avg=3.08\n",
            "[380 | 1211.48] loss=3.41 avg=3.09\n",
            "[390 | 1243.05] loss=2.37 avg=3.06\n",
            "[400 | 1274.64] loss=2.95 avg=3.06\n",
            "[410 | 1306.29] loss=2.96 avg=3.06\n",
            "[420 | 1337.86] loss=2.59 avg=3.04\n",
            "[430 | 1369.42] loss=2.59 avg=3.03\n",
            "[440 | 1401.00] loss=2.54 avg=3.02\n",
            "[450 | 1432.59] loss=2.53 avg=3.00\n",
            "[460 | 1464.15] loss=3.73 avg=3.02\n",
            "[470 | 1495.74] loss=3.32 avg=3.03\n",
            "[480 | 1527.34] loss=2.95 avg=3.03\n",
            "[490 | 1558.92] loss=3.14 avg=3.03\n",
            "[500 | 1590.48] loss=2.95 avg=3.03\n",
            "[510 | 1622.06] loss=3.48 avg=3.04\n",
            "[520 | 1653.66] loss=2.91 avg=3.04\n",
            "[530 | 1685.23] loss=3.11 avg=3.04\n",
            "[540 | 1716.79] loss=2.66 avg=3.03\n",
            "[550 | 1748.34] loss=3.07 avg=3.03\n",
            "[560 | 1779.90] loss=2.85 avg=3.03\n",
            "[570 | 1811.49] loss=3.11 avg=3.03\n",
            "[580 | 1843.07] loss=1.58 avg=3.00\n",
            "[590 | 1874.64] loss=2.42 avg=2.98\n",
            "[600 | 1906.21] loss=2.61 avg=2.97\n",
            "[610 | 1937.82] loss=2.01 avg=2.95\n",
            "[620 | 1969.44] loss=2.46 avg=2.94\n",
            "[630 | 2000.98] loss=1.36 avg=2.91\n",
            "[640 | 2032.56] loss=2.52 avg=2.90\n",
            "[650 | 2064.08] loss=2.61 avg=2.90\n",
            "[660 | 2095.58] loss=2.56 avg=2.89\n",
            "[670 | 2127.06] loss=3.14 avg=2.89\n",
            "[680 | 2158.61] loss=2.63 avg=2.89\n",
            "[690 | 2190.19] loss=2.76 avg=2.89\n",
            "[700 | 2221.77] loss=3.36 avg=2.89\n",
            "[710 | 2253.31] loss=2.01 avg=2.88\n",
            "[720 | 2284.88] loss=3.13 avg=2.88\n",
            "[730 | 2316.43] loss=2.96 avg=2.88\n",
            "[740 | 2347.93] loss=2.84 avg=2.88\n",
            "[750 | 2379.52] loss=3.02 avg=2.89\n",
            "[760 | 2411.09] loss=2.72 avg=2.88\n",
            "[770 | 2442.63] loss=3.36 avg=2.89\n",
            "[780 | 2474.18] loss=2.93 avg=2.89\n",
            "[790 | 2505.73] loss=2.59 avg=2.89\n",
            "[800 | 2537.27] loss=1.61 avg=2.86\n",
            "[810 | 2568.80] loss=3.16 avg=2.87\n",
            "[820 | 2600.27] loss=3.35 avg=2.88\n",
            "[830 | 2631.83] loss=2.95 avg=2.88\n",
            "[840 | 2663.35] loss=3.36 avg=2.89\n",
            "[850 | 2694.88] loss=2.22 avg=2.88\n",
            "[860 | 2726.44] loss=2.73 avg=2.87\n",
            "[870 | 2757.97] loss=2.83 avg=2.87\n",
            "[880 | 2789.51] loss=3.02 avg=2.88\n",
            "[890 | 2821.05] loss=3.19 avg=2.88\n",
            "[900 | 2852.62] loss=5.23 avg=2.92\n",
            "[910 | 2884.15] loss=2.36 avg=2.91\n",
            "[920 | 2915.68] loss=2.60 avg=2.91\n",
            "[930 | 2947.23] loss=2.19 avg=2.89\n",
            "[940 | 2978.77] loss=2.95 avg=2.89\n",
            "[950 | 3010.31] loss=2.38 avg=2.89\n",
            "[960 | 3041.87] loss=3.06 avg=2.89\n",
            "[970 | 3073.39] loss=2.87 avg=2.89\n",
            "[980 | 3104.97] loss=2.72 avg=2.89\n",
            "[990 | 3136.52] loss=2.76 avg=2.88\n",
            "[1000 | 3168.10] loss=1.53 avg=2.86\n",
            "Saving checkpoint/run42K/model-1000\n",
            "[1010 | 3207.89] loss=3.65 avg=2.87\n",
            "[1020 | 3239.43] loss=2.65 avg=2.87\n",
            "[1030 | 3270.96] loss=3.25 avg=2.88\n",
            "[1040 | 3302.54] loss=2.39 avg=2.87\n",
            "[1050 | 3334.06] loss=2.65 avg=2.87\n",
            "[1060 | 3365.67] loss=2.64 avg=2.86\n",
            "[1070 | 3397.24] loss=2.79 avg=2.86\n",
            "[1080 | 3428.83] loss=2.48 avg=2.86\n",
            "[1090 | 3460.39] loss=2.60 avg=2.85\n",
            "[1100 | 3491.96] loss=3.02 avg=2.85\n",
            "[1110 | 3523.55] loss=2.41 avg=2.85\n",
            "[1120 | 3555.14] loss=2.57 avg=2.84\n",
            "[1130 | 3586.75] loss=2.36 avg=2.84\n",
            "[1140 | 3618.35] loss=2.62 avg=2.83\n",
            "[1150 | 3649.96] loss=2.51 avg=2.83\n",
            "[1160 | 3681.53] loss=2.62 avg=2.83\n",
            "[1170 | 3713.14] loss=2.95 avg=2.83\n",
            "[1180 | 3744.79] loss=2.62 avg=2.82\n",
            "[1190 | 3776.41] loss=2.95 avg=2.83\n",
            "[1200 | 3807.96] loss=2.41 avg=2.82\n",
            "[1210 | 3839.51] loss=3.07 avg=2.82\n",
            "[1220 | 3871.08] loss=3.24 avg=2.83\n",
            "[1230 | 3902.57] loss=2.32 avg=2.82\n",
            "[1240 | 3934.11] loss=2.36 avg=2.82\n",
            "[1250 | 3965.68] loss=2.13 avg=2.81\n",
            "[1260 | 3997.25] loss=3.20 avg=2.81\n",
            "[1270 | 4028.82] loss=2.14 avg=2.80\n",
            "[1280 | 4060.39] loss=2.81 avg=2.80\n",
            "[1290 | 4091.97] loss=2.63 avg=2.80\n",
            "[1300 | 4123.52] loss=3.30 avg=2.81\n",
            "[1310 | 4155.12] loss=2.37 avg=2.80\n",
            "[1320 | 4186.70] loss=3.10 avg=2.81\n",
            "[1330 | 4218.29] loss=2.88 avg=2.81\n",
            "[1340 | 4249.89] loss=2.55 avg=2.80\n",
            "[1350 | 4281.51] loss=2.47 avg=2.80\n",
            "[1360 | 4313.10] loss=2.84 avg=2.80\n",
            "[1370 | 4344.66] loss=2.74 avg=2.80\n",
            "[1380 | 4376.26] loss=2.70 avg=2.80\n",
            "[1390 | 4407.83] loss=1.82 avg=2.78\n",
            "[1400 | 4439.39] loss=1.96 avg=2.77\n",
            "[1410 | 4471.00] loss=2.06 avg=2.76\n",
            "[1420 | 4502.58] loss=2.40 avg=2.76\n",
            "[1430 | 4534.18] loss=2.14 avg=2.75\n",
            "[1440 | 4565.74] loss=2.05 avg=2.74\n",
            "[1450 | 4597.31] loss=2.05 avg=2.73\n",
            "[1460 | 4628.88] loss=3.32 avg=2.74\n",
            "[1470 | 4660.43] loss=3.12 avg=2.74\n",
            "[1480 | 4691.96] loss=2.48 avg=2.74\n",
            "[1490 | 4723.54] loss=2.00 avg=2.73\n",
            "[1500 | 4755.11] loss=2.65 avg=2.73\n",
            "[1510 | 4786.68] loss=3.04 avg=2.74\n",
            "[1520 | 4818.25] loss=2.76 avg=2.74\n",
            "[1530 | 4849.87] loss=1.70 avg=2.72\n",
            "[1540 | 4881.44] loss=3.07 avg=2.73\n",
            "[1550 | 4913.00] loss=2.82 avg=2.73\n",
            "[1560 | 4944.59] loss=2.00 avg=2.72\n",
            "[1570 | 4976.20] loss=3.26 avg=2.73\n",
            "[1580 | 5007.84] loss=2.72 avg=2.73\n",
            "[1590 | 5039.49] loss=2.17 avg=2.72\n",
            "[1600 | 5071.21] loss=2.51 avg=2.72\n",
            "[1610 | 5102.92] loss=2.37 avg=2.71\n",
            "[1620 | 5134.54] loss=1.99 avg=2.70\n",
            "[1630 | 5166.23] loss=2.91 avg=2.70\n",
            "[1640 | 5197.94] loss=2.44 avg=2.70\n",
            "[1650 | 5229.66] loss=2.77 avg=2.70\n",
            "[1660 | 5261.38] loss=2.23 avg=2.70\n",
            "[1670 | 5293.07] loss=2.87 avg=2.70\n",
            "[1680 | 5324.75] loss=3.44 avg=2.71\n",
            "[1690 | 5356.34] loss=3.24 avg=2.71\n",
            "[1700 | 5388.03] loss=1.78 avg=2.70\n",
            "[1710 | 5419.76] loss=2.30 avg=2.70\n",
            "[1720 | 5451.43] loss=3.00 avg=2.70\n"
          ],
          "name": "stdout"
        }
      ]
    },
    {
      "cell_type": "code",
      "metadata": {
        "id": "vLeOYIl71pCO"
      },
      "source": [
        "gpt2.copy_checkpoint_to_gdrive(run_name='run42K')"
      ],
      "execution_count": null,
      "outputs": []
    },
    {
      "cell_type": "code",
      "metadata": {
        "id": "gL4hW5yNyRzs"
      },
      "source": [
        "gpt2.copy_checkpoint_from_gdrive(run_name='run42K')"
      ],
      "execution_count": null,
      "outputs": []
    },
    {
      "cell_type": "code",
      "metadata": {
        "id": "PX6LHfro1xvO"
      },
      "source": [
        "sess = gpt2.start_tf_sess()\n",
        "gpt2.load_gpt2(sess, run_name='run42K')"
      ],
      "execution_count": null,
      "outputs": []
    },
    {
      "cell_type": "code",
      "metadata": {
        "id": "fLNPXM6111IL"
      },
      "source": [
        "gpt2.generate(sess, run_name='run42K',\n",
        "             length=100,\n",
        "             prefix=\"<|startoftext|>\",\n",
        "             truncate=\"<|endoftext|>\",\n",
        "             include_prefix=False)"
      ],
      "execution_count": null,
      "outputs": []
    },
    {
      "cell_type": "code",
      "metadata": {
        "id": "lm89c-Ef1168"
      },
      "source": [
        "\n",
        "gpt2.generate(sess, run_name='run42K',\n",
        "              length=100,\n",
        "              temperature=.7,\n",
        "              nsamples=10,\n",
        "              batch_size=10,\n",
        "              prefix=\"[WP] You discover an alternate reality\",\n",
        "              truncate=\"<|endoftext|>\",\n",
        "              include_prefix=True\n",
        "              )"
      ],
      "execution_count": null,
      "outputs": []
    },
    {
      "cell_type": "code",
      "metadata": {
        "id": "fOkFzlIU17Fl"
      },
      "source": [
        "gen_file = 'gpt2_gentext_{:%Y%m%d_%H%M%S}.txt'.format(datetime.utcnow())\n",
        "\n",
        "gpt2.generate_to_file(sess,\n",
        "                      destination_path=gen_file,\n",
        "                      length=100,\n",
        "                      temperature=1.0,\n",
        "                      nsamples=100,\n",
        "                      batch_size=20,\n",
        "                      prefix=\"<|startoftext|>\",\n",
        "                      truncate=\"<|endoftext|>\",\n",
        "                      include_prefix=False,\n",
        "                      sample_delim=''\n",
        "                      )"
      ],
      "execution_count": null,
      "outputs": []
    }
  ]
}