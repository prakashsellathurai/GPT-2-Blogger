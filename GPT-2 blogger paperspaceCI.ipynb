{
 "cells": [
  {
   "cell_type": "code",
   "execution_count": 1,
   "metadata": {},
   "outputs": [
    {
     "name": "stdout",
     "output_type": "stream",
     "text": [
      "Thu Oct 22 07:48:44 2020       \n",
      "+-----------------------------------------------------------------------------+\n",
      "| NVIDIA-SMI 450.36.06    Driver Version: 450.36.06    CUDA Version: 11.0     |\n",
      "|-------------------------------+----------------------+----------------------+\n",
      "| GPU  Name        Persistence-M| Bus-Id        Disp.A | Volatile Uncorr. ECC |\n",
      "| Fan  Temp  Perf  Pwr:Usage/Cap|         Memory-Usage | GPU-Util  Compute M. |\n",
      "|                               |                      |               MIG M. |\n",
      "|===============================+======================+======================|\n",
      "|   0  Quadro M4000        On   | 00000000:00:05.0 Off |                  N/A |\n",
      "| 46%   30C    P8    12W / 120W |      1MiB /  8126MiB |      0%      Default |\n",
      "|                               |                      |                  N/A |\n",
      "+-------------------------------+----------------------+----------------------+\n",
      "                                                                               \n",
      "+-----------------------------------------------------------------------------+\n",
      "| Processes:                                                                  |\n",
      "|  GPU   GI   CI        PID   Type   Process name                  GPU Memory |\n",
      "|        ID   ID                                                   Usage      |\n",
      "|=============================================================================|\n",
      "|  No running processes found                                                 |\n",
      "+-----------------------------------------------------------------------------+\n"
     ]
    }
   ],
   "source": [
    "!nvidia-smi"
   ]
  },
  {
   "cell_type": "code",
   "execution_count": 2,
   "metadata": {},
   "outputs": [
    {
     "name": "stdout",
     "output_type": "stream",
     "text": [
      "Requirement already up-to-date: pip in /usr/local/lib/python3.6/dist-packages (20.2.4)\r\n"
     ]
    },
    {
     "name": "stderr",
     "output_type": "stream",
     "text": [
      "/usr/local/lib/python3.6/dist-packages/tensorflow/python/framework/dtypes.py:516: FutureWarning: Passing (type, 1) or '1type' as a synonym of type is deprecated; in a future version of numpy, it will be understood as (type, (1,)) / '(1,)type'.\n",
      "  _np_qint8 = np.dtype([(\"qint8\", np.int8, 1)])\n",
      "/usr/local/lib/python3.6/dist-packages/tensorflow/python/framework/dtypes.py:517: FutureWarning: Passing (type, 1) or '1type' as a synonym of type is deprecated; in a future version of numpy, it will be understood as (type, (1,)) / '(1,)type'.\n",
      "  _np_quint8 = np.dtype([(\"quint8\", np.uint8, 1)])\n",
      "/usr/local/lib/python3.6/dist-packages/tensorflow/python/framework/dtypes.py:518: FutureWarning: Passing (type, 1) or '1type' as a synonym of type is deprecated; in a future version of numpy, it will be understood as (type, (1,)) / '(1,)type'.\n",
      "  _np_qint16 = np.dtype([(\"qint16\", np.int16, 1)])\n",
      "/usr/local/lib/python3.6/dist-packages/tensorflow/python/framework/dtypes.py:519: FutureWarning: Passing (type, 1) or '1type' as a synonym of type is deprecated; in a future version of numpy, it will be understood as (type, (1,)) / '(1,)type'.\n",
      "  _np_quint16 = np.dtype([(\"quint16\", np.uint16, 1)])\n",
      "/usr/local/lib/python3.6/dist-packages/tensorflow/python/framework/dtypes.py:520: FutureWarning: Passing (type, 1) or '1type' as a synonym of type is deprecated; in a future version of numpy, it will be understood as (type, (1,)) / '(1,)type'.\n",
      "  _np_qint32 = np.dtype([(\"qint32\", np.int32, 1)])\n",
      "/usr/local/lib/python3.6/dist-packages/tensorflow/python/framework/dtypes.py:525: FutureWarning: Passing (type, 1) or '1type' as a synonym of type is deprecated; in a future version of numpy, it will be understood as (type, (1,)) / '(1,)type'.\n",
      "  np_resource = np.dtype([(\"resource\", np.ubyte, 1)])\n",
      "/usr/local/lib/python3.6/dist-packages/tensorboard/compat/tensorflow_stub/dtypes.py:541: FutureWarning: Passing (type, 1) or '1type' as a synonym of type is deprecated; in a future version of numpy, it will be understood as (type, (1,)) / '(1,)type'.\n",
      "  _np_qint8 = np.dtype([(\"qint8\", np.int8, 1)])\n",
      "/usr/local/lib/python3.6/dist-packages/tensorboard/compat/tensorflow_stub/dtypes.py:542: FutureWarning: Passing (type, 1) or '1type' as a synonym of type is deprecated; in a future version of numpy, it will be understood as (type, (1,)) / '(1,)type'.\n",
      "  _np_quint8 = np.dtype([(\"quint8\", np.uint8, 1)])\n",
      "/usr/local/lib/python3.6/dist-packages/tensorboard/compat/tensorflow_stub/dtypes.py:543: FutureWarning: Passing (type, 1) or '1type' as a synonym of type is deprecated; in a future version of numpy, it will be understood as (type, (1,)) / '(1,)type'.\n",
      "  _np_qint16 = np.dtype([(\"qint16\", np.int16, 1)])\n",
      "/usr/local/lib/python3.6/dist-packages/tensorboard/compat/tensorflow_stub/dtypes.py:544: FutureWarning: Passing (type, 1) or '1type' as a synonym of type is deprecated; in a future version of numpy, it will be understood as (type, (1,)) / '(1,)type'.\n",
      "  _np_quint16 = np.dtype([(\"quint16\", np.uint16, 1)])\n",
      "/usr/local/lib/python3.6/dist-packages/tensorboard/compat/tensorflow_stub/dtypes.py:545: FutureWarning: Passing (type, 1) or '1type' as a synonym of type is deprecated; in a future version of numpy, it will be understood as (type, (1,)) / '(1,)type'.\n",
      "  _np_qint32 = np.dtype([(\"qint32\", np.int32, 1)])\n",
      "/usr/local/lib/python3.6/dist-packages/tensorboard/compat/tensorflow_stub/dtypes.py:550: FutureWarning: Passing (type, 1) or '1type' as a synonym of type is deprecated; in a future version of numpy, it will be understood as (type, (1,)) / '(1,)type'.\n",
      "  np_resource = np.dtype([(\"resource\", np.ubyte, 1)])\n"
     ]
    }
   ],
   "source": [
    "!pip install --upgrade pip\n",
    "!pip install -q gpt-2-simple\n",
    "import gpt_2_simple as gpt2\n",
    "from datetime import datetime"
   ]
  },
  {
   "cell_type": "code",
   "execution_count": 3,
   "metadata": {},
   "outputs": [
    {
     "name": "stderr",
     "output_type": "stream",
     "text": [
      "Fetching checkpoint: 1.05Mit [00:00, 610Mit/s]                                                      \n",
      "Fetching encoder.json: 1.05Mit [00:00, 34.0Mit/s]                                                   \n",
      "Fetching hparams.json: 1.05Mit [00:00, 521Mit/s]                                                    \n",
      "Fetching model.ckpt.data-00000-of-00001: 1.42Git [00:24, 57.2Mit/s]                                 \n",
      "Fetching model.ckpt.index: 1.05Mit [00:00, 597Mit/s]                                                \n",
      "Fetching model.ckpt.meta: 1.05Mit [00:00, 32.7Mit/s]                                                \n",
      "Fetching vocab.bpe: 1.05Mit [00:00, 43.0Mit/s]                                                      \n"
     ]
    }
   ],
   "source": [
    "gpt2.download_gpt2(model_name=\"355M\")"
   ]
  },
  {
   "cell_type": "code",
   "execution_count": 4,
   "metadata": {},
   "outputs": [
    {
     "name": "stdout",
     "output_type": "stream",
     "text": [
      "--2020-10-22 07:49:19--  https://www.gwern.net/docs/ai/poetry/2019-03-06-gpt2-poetry-1000samples.txt\n",
      "Resolving www.gwern.net (www.gwern.net)... 104.26.7.107, 172.67.72.106, 104.26.6.107, ...\n",
      "Connecting to www.gwern.net (www.gwern.net)|104.26.7.107|:443... connected.\n",
      "HTTP request sent, awaiting response... 200 OK\n",
      "Length: 3673274 (3.5M) [text/plain]\n",
      "Saving to: ‘2019-03-06-gpt2-poetry-1000samples.txt.1’\n",
      "\n",
      "2019-03-06-gpt2-poe 100%[===================>]   3.50M  --.-KB/s    in 0.06s   \n",
      "\n",
      "2020-10-22 07:49:19 (54.6 MB/s) - ‘2019-03-06-gpt2-poetry-1000samples.txt.1’ saved [3673274/3673274]\n",
      "\n"
     ]
    }
   ],
   "source": [
    "!wget https://www.gwern.net/docs/ai/poetry/2019-03-06-gpt2-poetry-1000samples.txt"
   ]
  },
  {
   "cell_type": "code",
   "execution_count": 5,
   "metadata": {},
   "outputs": [],
   "source": [
    "file_name = \"2019-03-06-gpt2-poetry-1000samples.txt\""
   ]
  },
  {
   "cell_type": "code",
   "execution_count": null,
   "metadata": {},
   "outputs": [
    {
     "name": "stderr",
     "output_type": "stream",
     "text": [
      "WARNING: Logging before flag parsing goes to stderr.\n",
      "W1022 07:49:32.701805 140689374750528 deprecation.py:323] From /usr/local/lib/python3.6/dist-packages/gpt_2_simple/src/sample.py:17: add_dispatch_support.<locals>.wrapper (from tensorflow.python.ops.array_ops) is deprecated and will be removed in a future version.\n",
      "Instructions for updating:\n",
      "Use tf.where in 2.0, which has the same broadcast rule as np.where\n",
      "W1022 07:50:10.573513 140689374750528 deprecation.py:323] From /usr/local/lib/python3.6/dist-packages/tensorflow/python/training/saver.py:1276: checkpoint_exists (from tensorflow.python.training.checkpoint_management) is deprecated and will be removed in a future version.\n",
      "Instructions for updating:\n",
      "Use standard file APIs to check for files with this prefix.\n"
     ]
    },
    {
     "name": "stdout",
     "output_type": "stream",
     "text": [
      "Loading checkpoint models/355M/model.ckpt\n"
     ]
    },
    {
     "name": "stderr",
     "output_type": "stream",
     "text": [
      "  0%|          | 0/1 [00:00<?, ?it/s]"
     ]
    },
    {
     "name": "stdout",
     "output_type": "stream",
     "text": [
      "Loading dataset...\n"
     ]
    },
    {
     "name": "stderr",
     "output_type": "stream",
     "text": [
      "100%|██████████| 1/1 [00:06<00:00,  6.61s/it]\n"
     ]
    },
    {
     "name": "stdout",
     "output_type": "stream",
     "text": [
      "dataset has 1034166 tokens\n",
      "Training...\n",
      "[10 | 44.82] loss=3.83 avg=3.83\n",
      "[20 | 75.92] loss=3.38 avg=3.60\n",
      "[30 | 107.16] loss=3.97 avg=3.73\n",
      "[40 | 138.39] loss=3.41 avg=3.65\n",
      "[50 | 169.61] loss=3.00 avg=3.51\n",
      "[60 | 200.81] loss=3.74 avg=3.55\n",
      "[70 | 231.98] loss=3.33 avg=3.52\n",
      "[80 | 263.15] loss=2.83 avg=3.43\n",
      "[90 | 294.33] loss=3.39 avg=3.43\n",
      "[100 | 325.53] loss=3.50 avg=3.43\n",
      "[110 | 356.72] loss=1.91 avg=3.29\n",
      "[120 | 387.93] loss=3.15 avg=3.28\n",
      "[130 | 419.13] loss=2.72 avg=3.23\n",
      "[140 | 450.35] loss=2.95 avg=3.21\n",
      "[150 | 481.57] loss=3.59 avg=3.24\n",
      "[160 | 512.77] loss=3.13 avg=3.23\n",
      "[170 | 543.98] loss=2.79 avg=3.20\n",
      "[180 | 575.19] loss=2.83 avg=3.18\n",
      "[190 | 606.39] loss=3.21 avg=3.18\n",
      "[200 | 637.58] loss=2.90 avg=3.16\n",
      "[210 | 668.76] loss=3.19 avg=3.17\n",
      "[220 | 699.93] loss=2.94 avg=3.15\n",
      "[230 | 731.13] loss=2.89 avg=3.14\n",
      "[240 | 762.33] loss=3.55 avg=3.16\n",
      "[250 | 793.56] loss=3.51 avg=3.18\n",
      "[260 | 824.76] loss=2.88 avg=3.16\n",
      "[270 | 855.98] loss=2.84 avg=3.15\n",
      "[280 | 887.18] loss=2.65 avg=3.13\n",
      "[290 | 918.37] loss=3.10 avg=3.13\n",
      "[300 | 949.58] loss=3.23 avg=3.13\n",
      "[310 | 980.77] loss=3.17 avg=3.13\n",
      "[320 | 1011.96] loss=2.22 avg=3.10\n",
      "[330 | 1043.12] loss=3.18 avg=3.10\n",
      "[340 | 1074.28] loss=3.42 avg=3.11\n",
      "[350 | 1105.43] loss=3.51 avg=3.13\n",
      "[360 | 1136.57] loss=2.99 avg=3.12\n",
      "[370 | 1167.71] loss=2.88 avg=3.11\n",
      "[380 | 1198.86] loss=3.31 avg=3.12\n",
      "[390 | 1230.04] loss=3.29 avg=3.13\n",
      "[400 | 1261.24] loss=2.88 avg=3.12\n",
      "[410 | 1292.43] loss=2.88 avg=3.11\n",
      "[420 | 1323.62] loss=2.64 avg=3.10\n",
      "[430 | 1354.81] loss=2.39 avg=3.08\n",
      "[440 | 1386.01] loss=3.41 avg=3.09\n",
      "[450 | 1417.20] loss=2.91 avg=3.08\n",
      "[460 | 1448.39] loss=3.02 avg=3.08\n",
      "[470 | 1479.58] loss=2.94 avg=3.08\n",
      "[480 | 1510.78] loss=3.68 avg=3.09\n",
      "[490 | 1541.96] loss=3.15 avg=3.09\n",
      "[500 | 1573.13] loss=2.95 avg=3.09\n",
      "[510 | 1604.29] loss=3.44 avg=3.10\n",
      "[520 | 1635.45] loss=3.34 avg=3.10\n",
      "[530 | 1666.60] loss=3.22 avg=3.11\n",
      "[540 | 1697.78] loss=3.27 avg=3.11\n",
      "[550 | 1728.96] loss=3.63 avg=3.12\n",
      "[560 | 1760.13] loss=3.20 avg=3.13\n",
      "[570 | 1791.32] loss=2.01 avg=3.10\n",
      "[580 | 1822.49] loss=2.85 avg=3.09\n",
      "[590 | 1853.68] loss=2.88 avg=3.09\n",
      "[600 | 1884.88] loss=3.10 avg=3.09\n",
      "[610 | 1916.05] loss=2.70 avg=3.08\n",
      "[620 | 1947.22] loss=2.62 avg=3.07\n",
      "[630 | 1978.38] loss=2.98 avg=3.07\n",
      "[640 | 2009.53] loss=3.01 avg=3.07\n",
      "[650 | 2040.67] loss=3.14 avg=3.07\n",
      "[660 | 2071.81] loss=2.68 avg=3.06\n",
      "[670 | 2102.94] loss=3.07 avg=3.06\n",
      "[680 | 2134.09] loss=1.84 avg=3.04\n",
      "[690 | 2165.24] loss=2.51 avg=3.03\n",
      "[730 | 2289.95] loss=2.90 avg=3.01\n",
      "[740 | 2321.14] loss=3.12 avg=3.01\n",
      "[750 | 2352.33] loss=2.39 avg=3.00\n",
      "[760 | 2383.54] loss=2.12 avg=2.98\n",
      "[770 | 2414.73] loss=2.85 avg=2.98\n",
      "[780 | 2445.95] loss=2.62 avg=2.98\n",
      "[790 | 2477.15] loss=2.31 avg=2.96\n",
      "[800 | 2508.34] loss=3.39 avg=2.97\n",
      "[810 | 2539.54] loss=3.02 avg=2.97\n",
      "[820 | 2570.71] loss=3.42 avg=2.98\n",
      "[830 | 2601.88] loss=3.01 avg=2.98\n",
      "[840 | 2633.07] loss=3.07 avg=2.98\n",
      "[850 | 2664.26] loss=2.66 avg=2.98\n",
      "[860 | 2695.44] loss=2.94 avg=2.98\n",
      "[870 | 2726.62] loss=2.90 avg=2.97\n",
      "[880 | 2757.82] loss=3.07 avg=2.98\n",
      "[890 | 2789.01] loss=2.82 avg=2.97\n",
      "[900 | 2820.19] loss=2.58 avg=2.97\n",
      "[910 | 2851.38] loss=2.73 avg=2.96\n",
      "[920 | 2882.56] loss=2.51 avg=2.96\n",
      "[930 | 2913.71] loss=3.73 avg=2.97\n",
      "[940 | 2944.87] loss=3.22 avg=2.97\n",
      "[950 | 2976.04] loss=2.43 avg=2.96\n",
      "[960 | 3007.17] loss=3.67 avg=2.97\n",
      "[970 | 3038.31] loss=3.31 avg=2.98\n",
      "[980 | 3069.47] loss=3.07 avg=2.98\n",
      "[990 | 3100.67] loss=2.27 avg=2.97\n",
      "[1000 | 3131.86] loss=3.21 avg=2.97\n",
      "Saving checkpoint/2019-03-06-gpt2-poetry-1000samples/model-1000\n",
      "[1010 | 3167.32] loss=1.55 avg=2.95\n",
      "[1020 | 3198.48] loss=2.38 avg=2.94\n",
      "[1030 | 3229.61] loss=2.13 avg=2.93\n",
      "[1040 | 3260.78] loss=3.05 avg=2.93\n",
      "[1050 | 3291.96] loss=2.66 avg=2.93\n",
      "[1060 | 3323.13] loss=3.00 avg=2.93\n",
      "[1070 | 3354.29] loss=3.25 avg=2.93\n",
      "[1080 | 3385.45] loss=2.29 avg=2.92\n",
      "[1090 | 3416.64] loss=2.37 avg=2.92\n",
      "[1100 | 3447.84] loss=2.68 avg=2.91\n",
      "[1110 | 3479.02] loss=1.89 avg=2.90\n",
      "[1120 | 3510.21] loss=2.49 avg=2.89\n",
      "[1130 | 3541.38] loss=2.94 avg=2.89\n",
      "[1140 | 3572.57] loss=3.05 avg=2.89\n",
      "[1150 | 3603.75] loss=2.41 avg=2.89\n",
      "[1160 | 3634.92] loss=2.19 avg=2.88\n",
      "[1170 | 3666.08] loss=3.29 avg=2.88\n",
      "[1180 | 3697.23] loss=2.82 avg=2.88\n",
      "[1190 | 3728.39] loss=2.59 avg=2.88\n",
      "[1200 | 3759.55] loss=3.39 avg=2.89\n",
      "[1210 | 3790.72] loss=2.77 avg=2.88\n",
      "[1220 | 3821.89] loss=2.65 avg=2.88\n",
      "[1230 | 3853.08] loss=2.73 avg=2.88\n",
      "[1240 | 3884.26] loss=2.84 avg=2.88\n",
      "[1250 | 3915.44] loss=3.38 avg=2.88\n",
      "[1260 | 3946.62] loss=2.65 avg=2.88\n",
      "[1270 | 3977.81] loss=2.68 avg=2.88\n",
      "[1280 | 4009.01] loss=2.56 avg=2.87\n",
      "[1290 | 4040.20] loss=2.61 avg=2.87\n",
      "[1300 | 4071.38] loss=3.14 avg=2.87\n",
      "[1310 | 4102.53] loss=2.61 avg=2.87\n",
      "[1320 | 4133.66] loss=1.69 avg=2.85\n",
      "[1330 | 4164.81] loss=1.89 avg=2.84\n",
      "[1340 | 4195.97] loss=2.15 avg=2.83\n",
      "[1350 | 4227.13] loss=1.24 avg=2.81\n",
      "[1360 | 4258.30] loss=2.08 avg=2.80\n",
      "[1370 | 4289.47] loss=2.68 avg=2.80\n",
      "[1380 | 4320.65] loss=3.04 avg=2.80\n"
     ]
    }
   ],
   "source": [
    "sess = gpt2.start_tf_sess()\n",
    "\n",
    "gpt2.finetune(sess,\n",
    "              dataset=file_name,\n",
    "              model_name='355M',\n",
    "              steps=5000,\n",
    "              restore_from='latest',\n",
    "              run_name='2019-03-06-gpt2-poetry-1000samples',\n",
    "              print_every=10,\n",
    "              sample_every=5000,\n",
    "              )"
   ]
  },
  {
   "cell_type": "markdown",
   "metadata": {},
   "source": [
    "# Inference"
   ]
  },
  {
   "cell_type": "code",
   "execution_count": null,
   "metadata": {},
   "outputs": [],
   "source": [
    "run_name='2019-03-06-gpt2-poetry-1000samples"
   ]
  },
  {
   "cell_type": "code",
   "execution_count": null,
   "metadata": {},
   "outputs": [],
   "source": [
    "sess = gpt2.start_tf_sess()\n",
    "\n",
    "gpt2.load_gpt2(sess, run_name=run_name)"
   ]
  },
  {
   "cell_type": "code",
   "execution_count": null,
   "metadata": {},
   "outputs": [],
   "source": [
    "gpt2.generate(sess, run_name=run_name',\n",
    "             length=100,\n",
    "             prefix=\"<|startoftext|>\",\n",
    "             truncate=\"<|endoftext|>\",\n",
    "             include_prefix=False)"
   ]
  },
  {
   "cell_type": "code",
   "execution_count": null,
   "metadata": {},
   "outputs": [],
   "source": [
    "gen_file = 'gpt2_gentext_{:%Y%m%d_%H%M%S}.txt'.format(datetime.utcnow())\n",
    "\n",
    "gpt2.generate_to_file(sess,\n",
    "                      destination_path=gen_file,\n",
    "                      length=100,\n",
    "                      temperature=1.0,\n",
    "                      nsamples=100,\n",
    "                      batch_size=20,\n",
    "                      prefix=\"<|startoftext|>\",\n",
    "                      truncate=\"<|endoftext|>\",\n",
    "                      include_prefix=False,\n",
    "                      sample_delim=''\n",
    "                      )"
   ]
  }
 ],
 "metadata": {
  "kernelspec": {
   "display_name": "Python 3",
   "language": "python",
   "name": "python3"
  },
  "language_info": {
   "codemirror_mode": {
    "name": "ipython",
    "version": 3
   },
   "file_extension": ".py",
   "mimetype": "text/x-python",
   "name": "python",
   "nbconvert_exporter": "python",
   "pygments_lexer": "ipython3",
   "version": "3.6.8"
  }
 },
 "nbformat": 4,
 "nbformat_minor": 2
}
